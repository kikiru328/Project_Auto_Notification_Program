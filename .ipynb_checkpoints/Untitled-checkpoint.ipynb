{
 "cells": [
  {
   "cell_type": "code",
   "execution_count": 19,
   "id": "5c1ce826",
   "metadata": {},
   "outputs": [
    {
     "name": "stdout",
     "output_type": "stream",
     "text": [
      "Collecting pyinstaller\n",
      "  Downloading pyinstaller-4.5.1-py3-none-win_amd64.whl (1.9 MB)\n",
      "Collecting altgraph\n",
      "  Downloading altgraph-0.17-py2.py3-none-any.whl (21 kB)\n",
      "Requirement already satisfied: pywin32-ctypes>=0.2.0 in c:\\users\\kikir\\anaconda3\\lib\\site-packages (from pyinstaller) (0.2.0)\n",
      "Collecting pyinstaller-hooks-contrib>=2020.6\n",
      "  Downloading pyinstaller_hooks_contrib-2021.2-py2.py3-none-any.whl (190 kB)\n",
      "Collecting pefile>=2017.8.1\n",
      "  Downloading pefile-2021.5.24.tar.gz (66 kB)\n",
      "Requirement already satisfied: setuptools in c:\\users\\kikir\\anaconda3\\lib\\site-packages (from pyinstaller) (52.0.0.post20210125)\n",
      "Requirement already satisfied: future in c:\\users\\kikir\\anaconda3\\lib\\site-packages (from pefile>=2017.8.1->pyinstaller) (0.18.2)\n",
      "Building wheels for collected packages: pefile\n",
      "  Building wheel for pefile (setup.py): started\n",
      "  Building wheel for pefile (setup.py): finished with status 'done'\n",
      "  Created wheel for pefile: filename=pefile-2021.5.24-py3-none-any.whl size=62578 sha256=cdbb9971a28d06f276e34ac5c7722d186220c0287d84b8008b0a71db5b7d8210\n",
      "  Stored in directory: c:\\users\\kikir\\appdata\\local\\pip\\cache\\wheels\\43\\04\\fc\\d9305103f7d512f2df35b1878e1009e8217e713b767aee8f13\n",
      "Successfully built pefile\n",
      "Installing collected packages: pyinstaller-hooks-contrib, pefile, altgraph, pyinstaller\n",
      "Successfully installed altgraph-0.17 pefile-2021.5.24 pyinstaller-4.5.1 pyinstaller-hooks-contrib-2021.2\n"
     ]
    }
   ],
   "source": [
    "!pip install pyinstaller"
   ]
  },
  {
   "cell_type": "code",
   "execution_count": 20,
   "id": "abbcbe43",
   "metadata": {},
   "outputs": [],
   "source": [
    "# Break_time notification\n",
    "# Module\n",
    "# -schedule\n",
    "# -time\n",
    "# -plyer\n",
    "# -win10toast\n",
    "# pyinstaller"
   ]
  },
  {
   "cell_type": "code",
   "execution_count": 24,
   "id": "132cec6f",
   "metadata": {},
   "outputs": [],
   "source": [
    "from plyer import notification\n",
    "import plyer \n",
    "from win10toast import ToastNotifier\n",
    "import schedule\n",
    "import time\n",
    "import os"
   ]
  },
  {
   "cell_type": "code",
   "execution_count": 18,
   "id": "006f6238",
   "metadata": {},
   "outputs": [
    {
     "ename": "KeyboardInterrupt",
     "evalue": "",
     "output_type": "error",
     "traceback": [
      "\u001b[1;31m---------------------------------------------------------------------------\u001b[0m",
      "\u001b[1;31mKeyboardInterrupt\u001b[0m                         Traceback (most recent call last)",
      "\u001b[1;32m<ipython-input-18-9f1a8f5c42b8>\u001b[0m in \u001b[0;36m<module>\u001b[1;34m\u001b[0m\n\u001b[0;32m      2\u001b[0m \u001b[1;32mwhile\u001b[0m \u001b[1;32mTrue\u001b[0m\u001b[1;33m:\u001b[0m\u001b[1;33m\u001b[0m\u001b[1;33m\u001b[0m\u001b[0m\n\u001b[0;32m      3\u001b[0m     \u001b[0mschedule\u001b[0m\u001b[1;33m.\u001b[0m\u001b[0mrun_pending\u001b[0m\u001b[1;33m(\u001b[0m\u001b[1;33m)\u001b[0m\u001b[1;33m\u001b[0m\u001b[1;33m\u001b[0m\u001b[0m\n\u001b[1;32m----> 4\u001b[1;33m     \u001b[0mtime\u001b[0m\u001b[1;33m.\u001b[0m\u001b[0msleep\u001b[0m\u001b[1;33m(\u001b[0m\u001b[1;36m1\u001b[0m\u001b[1;33m)\u001b[0m\u001b[1;33m\u001b[0m\u001b[1;33m\u001b[0m\u001b[0m\n\u001b[0m",
      "\u001b[1;31mKeyboardInterrupt\u001b[0m: "
     ]
    }
   ],
   "source": [
    "def notification():\n",
    "    toaster = ToastNotifier()\n",
    "    return toaster.show_toast(\"Sample Notification\",\"Python is awesome!!!\") \n",
    "schedule.every(10).seconds.do(job) # 3초마다 job 실행\n",
    "while True:\n",
    "    schedule.run_pending()\n",
    "    time.sleep(1)"
   ]
  },
  {
   "cell_type": "code",
   "execution_count": 27,
   "id": "186e096d",
   "metadata": {},
   "outputs": [
    {
     "data": {
      "text/plain": [
       "'C:\\\\workspace\\\\AUTO_attendence_CHECK_Program'"
      ]
     },
     "execution_count": 27,
     "metadata": {},
     "output_type": "execute_result"
    }
   ],
   "source": [
    "os.getcwd()"
   ]
  },
  {
   "cell_type": "code",
   "execution_count": null,
   "id": "934e609f",
   "metadata": {},
   "outputs": [],
   "source": [
    "!pyinstaller --noconsole --onefile Untitled.py"
   ]
  },
  {
   "cell_type": "code",
   "execution_count": null,
   "id": "6c49db63",
   "metadata": {},
   "outputs": [],
   "source": [
    "# schedule.every().monday.at(\"09:49:55\").do(notification)\n",
    "# schedule.every().tuesday.at(\"09:49:55\").do(notification)\n",
    "# schedule.every().wednesday.at(\"09:49:55\").do(notification)\n",
    "# schedule.every().thursday.at(\"09:49:55\").do(notification)\n",
    "# schedule.every().friday.at(\"09:49:55\").do(notification)\n",
    "# while True:\n",
    "#     schedule.run_pending()\n",
    "#     time.sleep(1)"
   ]
  }
 ],
 "metadata": {
  "kernelspec": {
   "display_name": "Python 3",
   "language": "python",
   "name": "python3"
  },
  "language_info": {
   "codemirror_mode": {
    "name": "ipython",
    "version": 3
   },
   "file_extension": ".py",
   "mimetype": "text/x-python",
   "name": "python",
   "nbconvert_exporter": "python",
   "pygments_lexer": "ipython3",
   "version": "3.8.8"
  }
 },
 "nbformat": 4,
 "nbformat_minor": 5
}

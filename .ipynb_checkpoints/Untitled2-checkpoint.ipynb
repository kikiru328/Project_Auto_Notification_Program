{
 "cells": [
  {
   "cell_type": "code",
   "execution_count": 1,
   "id": "c26bd215-da57-4e39-83ff-874ad9c7ef53",
   "metadata": {},
   "outputs": [
    {
     "name": "stdout",
     "output_type": "stream",
     "text": [
      "Collecting SpeechRecognition\n",
      "  Downloading SpeechRecognition-3.8.1-py2.py3-none-any.whl (32.8 MB)\n",
      "Installing collected packages: SpeechRecognition\n",
      "Successfully installed SpeechRecognition-3.8.1\n"
     ]
    }
   ],
   "source": [
    " !pip install SpeechRecognition"
   ]
  },
  {
   "cell_type": "code",
   "execution_count": 6,
   "id": "b8e7c6a0-fc3e-4e4b-bc9e-ee633e6482a2",
   "metadata": {},
   "outputs": [
    {
     "data": {
      "text/plain": [
       "'3.8.1'"
      ]
     },
     "execution_count": 6,
     "metadata": {},
     "output_type": "execute_result"
    }
   ],
   "source": [
    "import speech_recognition as sr\n",
    "sr.__version__"
   ]
  },
  {
   "cell_type": "code",
   "execution_count": 4,
   "id": "bbc23895-0e22-498d-8160-c341dca560e5",
   "metadata": {},
   "outputs": [],
   "source": [
    "r = sr.Recognizer()"
   ]
  },
  {
   "cell_type": "code",
   "execution_count": 5,
   "id": "bace45ea-5d9f-4cd7-945d-b520136e1380",
   "metadata": {},
   "outputs": [
    {
     "name": "stdout",
     "output_type": "stream",
     "text": [
      "Collecting pyaudio"
     ]
    },
    {
     "name": "stderr",
     "output_type": "stream",
     "text": [
      "  ERROR: Command errored out with exit status 1:\n",
      "   command: 'D:\\Tools\\Anaconda3\\envs\\cakd3\\python.exe' -u -c 'import sys, setuptools, tokenize; sys.argv[0] = '\"'\"'C:\\\\Users\\\\kikir\\\\AppData\\\\Local\\\\Temp\\\\pip-install-lp7d4wbz\\\\pyaudio_b1d1f9a9e1cf4504867b12843e91541e\\\\setup.py'\"'\"'; __file__='\"'\"'C:\\\\Users\\\\kikir\\\\AppData\\\\Local\\\\Temp\\\\pip-install-lp7d4wbz\\\\pyaudio_b1d1f9a9e1cf4504867b12843e91541e\\\\setup.py'\"'\"';f=getattr(tokenize, '\"'\"'open'\"'\"', open)(__file__);code=f.read().replace('\"'\"'\\r\\n'\"'\"', '\"'\"'\\n'\"'\"');f.close();exec(compile(code, __file__, '\"'\"'exec'\"'\"'))' bdist_wheel -d 'C:\\Users\\kikir\\AppData\\Local\\Temp\\pip-wheel-yn19e3_m'\n",
      "       cwd: C:\\Users\\kikir\\AppData\\Local\\Temp\\pip-install-lp7d4wbz\\pyaudio_b1d1f9a9e1cf4504867b12843e91541e\\\n",
      "  Complete output (9 lines):\n",
      "  running bdist_wheel\n",
      "  running build\n",
      "  running build_py\n",
      "  creating build\n",
      "  creating build\\lib.win-amd64-3.8\n",
      "  copying src\\pyaudio.py -> build\\lib.win-amd64-3.8\n",
      "  running build_ext\n",
      "  building '_portaudio' extension\n",
      "  error: Microsoft Visual C++ 14.0 or greater is required. Get it with \"Microsoft C++ Build Tools\": https://visualstudio.microsoft.com/visual-cpp-build-tools/\n",
      "  ----------------------------------------\n",
      "  ERROR: Failed building wheel for pyaudio\n",
      "    ERROR: Command errored out with exit status 1:\n",
      "     command: 'D:\\Tools\\Anaconda3\\envs\\cakd3\\python.exe' -u -c 'import sys, setuptools, tokenize; sys.argv[0] = '\"'\"'C:\\\\Users\\\\kikir\\\\AppData\\\\Local\\\\Temp\\\\pip-install-lp7d4wbz\\\\pyaudio_b1d1f9a9e1cf4504867b12843e91541e\\\\setup.py'\"'\"'; __file__='\"'\"'C:\\\\Users\\\\kikir\\\\AppData\\\\Local\\\\Temp\\\\pip-install-lp7d4wbz\\\\pyaudio_b1d1f9a9e1cf4504867b12843e91541e\\\\setup.py'\"'\"';f=getattr(tokenize, '\"'\"'open'\"'\"', open)(__file__);code=f.read().replace('\"'\"'\\r\\n'\"'\"', '\"'\"'\\n'\"'\"');f.close();exec(compile(code, __file__, '\"'\"'exec'\"'\"'))' install --record 'C:\\Users\\kikir\\AppData\\Local\\Temp\\pip-record-3cjxgaz_\\install-record.txt' --single-version-externally-managed --compile --install-headers 'D:\\Tools\\Anaconda3\\envs\\cakd3\\Include\\pyaudio'\n",
      "         cwd: C:\\Users\\kikir\\AppData\\Local\\Temp\\pip-install-lp7d4wbz\\pyaudio_b1d1f9a9e1cf4504867b12843e91541e\\\n",
      "    Complete output (9 lines):\n",
      "    running install\n",
      "    running build\n",
      "    running build_py\n",
      "    creating build\n",
      "    creating build\\lib.win-amd64-3.8\n",
      "    copying src\\pyaudio.py -> build\\lib.win-amd64-3.8\n",
      "    running build_ext\n",
      "    building '_portaudio' extension\n",
      "    error: Microsoft Visual C++ 14.0 or greater is required. Get it with \"Microsoft C++ Build Tools\": https://visualstudio.microsoft.com/visual-cpp-build-tools/\n",
      "    ----------------------------------------\n",
      "ERROR: Command errored out with exit status 1: 'D:\\Tools\\Anaconda3\\envs\\cakd3\\python.exe' -u -c 'import sys, setuptools, tokenize; sys.argv[0] = '\"'\"'C:\\\\Users\\\\kikir\\\\AppData\\\\Local\\\\Temp\\\\pip-install-lp7d4wbz\\\\pyaudio_b1d1f9a9e1cf4504867b12843e91541e\\\\setup.py'\"'\"'; __file__='\"'\"'C:\\\\Users\\\\kikir\\\\AppData\\\\Local\\\\Temp\\\\pip-install-lp7d4wbz\\\\pyaudio_b1d1f9a9e1cf4504867b12843e91541e\\\\setup.py'\"'\"';f=getattr(tokenize, '\"'\"'open'\"'\"', open)(__file__);code=f.read().replace('\"'\"'\\r\\n'\"'\"', '\"'\"'\\n'\"'\"');f.close();exec(compile(code, __file__, '\"'\"'exec'\"'\"'))' install --record 'C:\\Users\\kikir\\AppData\\Local\\Temp\\pip-record-3cjxgaz_\\install-record.txt' --single-version-externally-managed --compile --install-headers 'D:\\Tools\\Anaconda3\\envs\\cakd3\\Include\\pyaudio' Check the logs for full command output.\n"
     ]
    },
    {
     "name": "stdout",
     "output_type": "stream",
     "text": [
      "\n",
      "  Downloading PyAudio-0.2.11.tar.gz (37 kB)\n",
      "Building wheels for collected packages: pyaudio\n",
      "  Building wheel for pyaudio (setup.py): started\n",
      "  Building wheel for pyaudio (setup.py): finished with status 'error'\n",
      "  Running setup.py clean for pyaudio\n",
      "Failed to build pyaudio\n",
      "Installing collected packages: pyaudio\n",
      "    Running setup.py install for pyaudio: started\n",
      "    Running setup.py install for pyaudio: finished with status 'error'\n"
     ]
    }
   ],
   "source": [
    "!pip install pyaudio"
   ]
  },
  {
   "cell_type": "code",
   "execution_count": null,
   "id": "91d3ee2b-f6c3-4a7b-b117-a9afbb759c09",
   "metadata": {},
   "outputs": [],
   "source": []
  }
 ],
 "metadata": {
  "kernelspec": {
   "display_name": "Python 3",
   "language": "python",
   "name": "python3"
  },
  "language_info": {
   "codemirror_mode": {
    "name": "ipython",
    "version": 3
   },
   "file_extension": ".py",
   "mimetype": "text/x-python",
   "name": "python",
   "nbconvert_exporter": "python",
   "pygments_lexer": "ipython3",
   "version": "3.8.11"
  }
 },
 "nbformat": 4,
 "nbformat_minor": 5
}

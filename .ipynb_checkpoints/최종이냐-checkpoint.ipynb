{
 "cells": [
  {
   "cell_type": "code",
   "execution_count": 17,
   "id": "1eaf7714-a6c5-4de5-8d1b-5fe4963938a7",
   "metadata": {},
   "outputs": [],
   "source": [
    "# module import\n",
    "from plyer import notification\n",
    "import schedule\n",
    "import time\n",
    "import pyautogui\n",
    "import tkinter as tk\n",
    "from tkinter import filedialog\n",
    "import os\n",
    "import datetime as dt\n",
    "import webbrowser"
   ]
  },
  {
   "cell_type": "code",
   "execution_count": 136,
   "id": "88410a74-2561-46da-add3-86e41ec768ab",
   "metadata": {},
   "outputs": [],
   "source": [
    "def programe_start():\n",
    "    if __name__ == \"__main__\":\n",
    "        notification.notify(\n",
    "        title = \"프로그램 실행!\",\n",
    "        message = \"자동 알림 프로그램 실행완료.\",\n",
    "        app_name = 'CAKD3',\n",
    "        app_icon= 'emoji.ico',\n",
    "        timeout = 5)\n",
    "    return\n",
    "\n",
    "\n",
    "def break_time():\n",
    "    if __name__ == \"__main__\":\n",
    "        notification.notify(\n",
    "        title = \"쉬는시간입니다!\",\n",
    "        message = \"10분간 몸과 뇌를 새로고침하세요\",\n",
    "        app_name = 'CAKD3',\n",
    "        app_icon= 'clock_icon.ico',\n",
    "        timeout = 5)\n",
    "    return\n",
    "\n",
    "\n",
    "def lunch():\n",
    "    if __name__ == \"__main__\":\n",
    "        notification.notify(\n",
    "        title = \"점심시간입니다!\",\n",
    "        message = \"14:00까지 식사하고 쉬고 오세요\",\n",
    "        app_name = 'CAKD3',\n",
    "        app_icon= 'lunch.ico',\n",
    "        timeout = 5)\n",
    "    return\n",
    "\n",
    "\n",
    "def check():\n",
    "    if __name__ == \"__main__\":\n",
    "        notification.notify(\n",
    "        title = \"신호출결!\",\n",
    "        message = \"신호출결을 하시기 바랍니다!\\n<14:00 - 14:48> 중 랜덤으로\\n 1회 신호출결이 진행됩니다\",\n",
    "        app_name = 'CAKD3',\n",
    "        app_icon= 'check.ico',\n",
    "        timeout = 5)\n",
    "    return\n",
    "\n",
    "def random_minute():\n",
    "    return np.random.randint(60)\n",
    "\n",
    "minute = random_minute()\n",
    "minute\n",
    "\n",
    "\n",
    "\n",
    "\n",
    "def class_start():\n",
    "    if __name__ == \"__main__\":\n",
    "        notification.notify(\n",
    "        title = \"수업시작!\",\n",
    "        message = \"자리에 앉아 코딩합시다\",\n",
    "        app_name = 'CAKD3',\n",
    "        app_icon= 'board.ico',\n",
    "        timeout = 5)\n",
    "    return\n",
    "\n",
    "\n",
    "def QR():\n",
    "    from PIL import Image\n",
    "    if __name__ == '__main__':\n",
    "        im = Image.open('qrcode.png')\n",
    "        im.show()     \n",
    "        \n",
    "def prog_s():\n",
    "    if __name__ == \"__main__\":\n",
    "        notification.notify(\n",
    "        title = \"프로그램!\",\n",
    "        message = \"자동프로그램이 시작됩니다.\",\n",
    "        app_name = 'CAKD3',\n",
    "        app_icon= 'emoji.ico',\n",
    "        timeout = 5)\n",
    "    return"
   ]
  },
  {
   "cell_type": "code",
   "execution_count": null,
   "id": "f32aa760-f44f-492b-bab7-3295eacb7ca7",
   "metadata": {},
   "outputs": [],
   "source": [
    "#checking\n",
    "prog_s()\n",
    "\n",
    "\n",
    "#QR\n",
    "schedule.every().day.at(\"08:50:00\").do(QR)\n",
    "schedule.every().day.at(\"09:00:00\").do(class_start)\n",
    "schedule.every().day.at(\"09:49:57\").do(break_time)\n",
    "\n",
    "schedule.every().day.at(\"10:00:00\").do(class_start)\n",
    "schedule.every().day.at(\"10:49:57\").do(break_time)\n",
    " \n",
    "\n",
    "schedule.every().day.at(\"11:00:00\").do(class_start)\n",
    "schedule.every().day.at(\"11:49:57\").do(break_time)\n",
    "\n",
    "\n",
    "schedule.every().day.at(\"12:00:00\").do(class_start)\n",
    "schedule.every().day.at(\"12:49:55\").do(lunch)\n",
    "\n",
    "schedule.every().day.at(\"13:59:55\").do(check)\n",
    "schedule.every().day.at(\"14:00:00\").do(class_start)\n",
    "schedule.every().day.at(\"14:49:57\").do(break_time)\n",
    "\n",
    "\n",
    "schedule.every().day.at(\"14:59:57\").do(class_start)\n",
    "schedule.every().day.at(\"15:49:57\").do(break_time)\n",
    "\n",
    "\n",
    "schedule.every().day.at(\"16:00:00\").do(class_start)\n",
    "schedule.every().day.at(\"16:49:57\").do(break_time)\n",
    "\n",
    "\n",
    "schedule.every().day.at(\"17:00:00\").do(class_start)\n",
    "schedule.every().day.at(\"17:50:00\").do(QR)\n",
    "\n",
    "while True:\n",
    "    schedule.run_pending()\n",
    "    time.sleep(1)"
   ]
  },
  {
   "cell_type": "code",
   "execution_count": 88,
   "id": "0f50a6f5-468f-492a-bb8e-0f6a86757c81",
   "metadata": {},
   "outputs": [],
   "source": [
    "import numpy as np"
   ]
  },
  {
   "cell_type": "code",
   "execution_count": 94,
   "id": "8152b0f7-c3c2-4655-a839-1806850fe7c3",
   "metadata": {},
   "outputs": [],
   "source": [
    "def random_minute():\n",
    "    return np.random.randint(60)"
   ]
  },
  {
   "cell_type": "code",
   "execution_count": 97,
   "id": "f543efac-ca5c-4a0b-a8cf-427499bebc45",
   "metadata": {},
   "outputs": [
    {
     "data": {
      "text/plain": [
       "7"
      ]
     },
     "execution_count": 97,
     "metadata": {},
     "output_type": "execute_result"
    }
   ],
   "source": [
    "random_minute()"
   ]
  },
  {
   "cell_type": "code",
   "execution_count": null,
   "id": "7ed78ce6-1bbb-49c9-af70-ea0bcd12d741",
   "metadata": {},
   "outputs": [],
   "source": [
    "schedule.every().day.at(f\"14:{})"
   ]
  },
  {
   "cell_type": "code",
   "execution_count": 66,
   "id": "9d516974-b8fa-4966-a43f-11317fe76acc",
   "metadata": {},
   "outputs": [],
   "source": [
    "# 17:49:00 zoom api - screen share\n",
    "# 일을 주어서\n",
    "# 매우"
   ]
  },
  {
   "cell_type": "markdown",
   "id": "fd415299-8cd3-4a92-b899-091942bf6acf",
   "metadata": {},
   "source": [
    "감사하지 않습니다 채승혜님"
   ]
  }
 ],
 "metadata": {
  "kernelspec": {
   "display_name": "Python 3",
   "language": "python",
   "name": "python3"
  },
  "language_info": {
   "codemirror_mode": {
    "name": "ipython",
    "version": 3
   },
   "file_extension": ".py",
   "mimetype": "text/x-python",
   "name": "python",
   "nbconvert_exporter": "python",
   "pygments_lexer": "ipython3",
   "version": "3.8.11"
  },
  "varInspector": {
   "cols": {
    "lenName": 16,
    "lenType": 16,
    "lenVar": 40
   },
   "kernels_config": {
    "python": {
     "delete_cmd_postfix": "",
     "delete_cmd_prefix": "del ",
     "library": "var_list.py",
     "varRefreshCmd": "print(var_dic_list())"
    },
    "r": {
     "delete_cmd_postfix": ") ",
     "delete_cmd_prefix": "rm(",
     "library": "var_list.r",
     "varRefreshCmd": "cat(var_dic_list()) "
    }
   },
   "types_to_exclude": [
    "module",
    "function",
    "builtin_function_or_method",
    "instance",
    "_Feature"
   ],
   "window_display": false
  }
 },
 "nbformat": 4,
 "nbformat_minor": 5
}

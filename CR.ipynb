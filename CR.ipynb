{
 "cells": [
  {
   "cell_type": "code",
<<<<<<< Updated upstream
   "execution_count": 1,
=======
   "execution_count": 2,
>>>>>>> Stashed changes
   "id": "9c89ddd2",
   "metadata": {},
   "outputs": [
    {
     "ename": "ModuleNotFoundError",
     "evalue": "No module named 'pyautogui'",
     "output_type": "error",
     "traceback": [
      "\u001b[1;31m---------------------------------------------------------------------------\u001b[0m",
      "\u001b[1;31mModuleNotFoundError\u001b[0m                       Traceback (most recent call last)",
      "\u001b[1;32m<ipython-input-2-8cef20901b5c>\u001b[0m in \u001b[0;36m<module>\u001b[1;34m\u001b[0m\n\u001b[0;32m      1\u001b[0m \u001b[1;32mimport\u001b[0m \u001b[0mschedule\u001b[0m\u001b[1;33m\u001b[0m\u001b[1;33m\u001b[0m\u001b[0m\n\u001b[0;32m      2\u001b[0m \u001b[1;32mimport\u001b[0m \u001b[0mtime\u001b[0m\u001b[1;33m\u001b[0m\u001b[1;33m\u001b[0m\u001b[0m\n\u001b[1;32m----> 3\u001b[1;33m \u001b[1;32mimport\u001b[0m \u001b[0mpyautogui\u001b[0m\u001b[1;33m\u001b[0m\u001b[1;33m\u001b[0m\u001b[0m\n\u001b[0m\u001b[0;32m      4\u001b[0m \u001b[1;32mimport\u001b[0m \u001b[0mtkinter\u001b[0m \u001b[1;32mas\u001b[0m \u001b[0mtk\u001b[0m\u001b[1;33m\u001b[0m\u001b[1;33m\u001b[0m\u001b[0m\n\u001b[0;32m      5\u001b[0m \u001b[1;32mfrom\u001b[0m \u001b[0mtkinter\u001b[0m \u001b[1;32mimport\u001b[0m \u001b[0mfiledialog\u001b[0m\u001b[1;33m\u001b[0m\u001b[1;33m\u001b[0m\u001b[0m\n",
      "\u001b[1;31mModuleNotFoundError\u001b[0m: No module named 'pyautogui'"
     ]
    }
   ],
   "source": [
    "import schedule\n",
    "import time\n",
    "import pyautogui\n",
    "import tkinter as tk\n",
    "from tkinter import filedialog\n",
    "import os\n",
    "\n",
    "def notification():\n",
    "    from plyer import notification\n",
    "    if __name__ == \"__main__\":\n",
    "        notification.notify(\n",
    "        title = \"쉬는시간입니다!\",\n",
    "        message = \"10분간 몸과 뇌를 새로고침하세요\",\n",
    "        app_name = 'CAKD3',\n",
    "        app_icon= 'clock_icon.ico',\n",
    "        timeout = 5)\n",
    "    return\n",
    "\n",
    "\n",
    "def lunch():\n",
    "    from plyer import notification\n",
    "    if __name__ == \"__main__\":\n",
    "        notification.notify(\n",
    "        title = \"점심시간입니다!\",\n",
    "        message = \"14:00까지 식사하고 쉬고 오세요\",\n",
    "        app_name = 'CAKD3',\n",
    "        app_icon= 'lunch.ico',\n",
    "        timeout = 5)\n",
    "    return\n",
    "\n",
    "\n",
    "def check():\n",
    "    from plyer import notification\n",
    "    if __name__ == \"__main__\":\n",
    "        notification.notify(\n",
    "        title = \"신호출결!\",\n",
    "        message = \"신호출결할 시간입니다.\",\n",
    "        app_name = 'CAKD3',\n",
    "        app_icon= 'check.ico',\n",
    "        timeout = 5)\n",
    "    return\n",
    "\n",
    "\n",
    "\n",
    "def capture():\n",
    "    from plyer import notification\n",
    "    if __name__ == \"__main__\":\n",
    "        notification.notify(\n",
    "        title = \"화면캡쳐!\",\n",
    "        message = \"화면캡쳐할 시간입니다.\",\n",
    "        app_name = 'CAKD3',\n",
    "        app_icon= 'capture.ico',\n",
    "        timeout = 5)\n",
    "    return\n",
    "\n",
    "\n",
    "\n",
    "\n",
    "\n",
    "\n",
    "def tkinter():\n",
    "    if __name__ == '__main__':\n",
    "        root = tk.Tk()\n",
    "        root.geometry(\"210x50+850+950\")\n",
    "        canvas1 = tk.Canvas(root,width=210,height=50)\n",
    "\n",
    "        canvas1.pack()\n",
    "\n",
    "        def takeScreenshot():\n",
    "            myScreenshot = pyautogui.screenshot()\n",
    "\n",
    "            file_path = filedialog.asksaveasfilename(initialdir='C:/workspace/',defaultextension='.png')\n",
    "        #     file_path = filedialog.asksaveasfilename(initialdir='C:/workspace/', title='Save File', filetypes=(('png Files', 'png.*'), ('All Files', '*.*')))\n",
    "\n",
    "            myScreenshot.save(file_path)\n",
    "\n",
    "        myButton = tk.Button(text=\"캡처저장\",command=takeScreenshot,bg='skyblue',fg='blue',font=10)\n",
    "\n",
    "        canvas1.create_window(50,20,window=myButton)\n",
    "\n",
    "        def open_folder():\n",
    "            os.startfile('C:/workspace/')\n",
    "            import webbrowser\n",
    "\n",
    "            webbrowser.open_new_tab(\"https://drive.google.com/drive/folders/1SgyRIMz4sqFhLcaGUY9RF04eNpTtlCKC\")\n",
    "\n",
    "\n",
    "\n",
    "        myButton1 = tk.Button(text=\"저장폴더열기\",command=open_folder,bg='green',fg='blue',font=10)    \n",
    "        canvas1.create_window(150,20,window=myButton1)    \n",
    "\n",
    "\n",
    "        root.mainloop()\n",
    "\n",
    "\n",
    "\n",
    "def QR():\n",
    "    from PIL import Image\n",
    "    if __name__ == '__main__':\n",
    "        im = Image.open('qrcode.png')\n",
    "        im.show()\n",
    "        \n",
    "    "
   ]
  },
  {
   "cell_type": "code",
   "execution_count": null,
<<<<<<< Updated upstream
=======
   "id": "15aa174b-fc91-4d6b-bc9f-a143399a577e",
   "metadata": {},
   "outputs": [],
   "source": [
    "!pip install pyautogui"
   ]
  },
  {
   "cell_type": "code",
   "execution_count": 3,
   "id": "2695d4e7-56c9-429d-80c6-253d2b9ec949",
   "metadata": {},
   "outputs": [
    {
     "ename": "NameError",
     "evalue": "name 'tkinter' is not defined",
     "output_type": "error",
     "traceback": [
      "\u001b[1;31m---------------------------------------------------------------------------\u001b[0m",
      "\u001b[1;31mNameError\u001b[0m                                 Traceback (most recent call last)",
      "\u001b[1;32m<ipython-input-3-6d6308455900>\u001b[0m in \u001b[0;36m<module>\u001b[1;34m\u001b[0m\n\u001b[1;32m----> 1\u001b[1;33m \u001b[0mtkinter\u001b[0m\u001b[1;33m(\u001b[0m\u001b[1;33m)\u001b[0m\u001b[1;33m\u001b[0m\u001b[1;33m\u001b[0m\u001b[0m\n\u001b[0m",
      "\u001b[1;31mNameError\u001b[0m: name 'tkinter' is not defined"
     ]
    }
   ],
   "source": [
    "tkinter()"
   ]
  },
  {
   "cell_type": "code",
   "execution_count": 3,
>>>>>>> Stashed changes
   "id": "c21024f2-d67c-48d9-88bd-5383e6e4b09e",
   "metadata": {},
   "outputs": [],
   "source": [
    "#QR\n",
    "schedule.every().day.at(\"08:50:00\").do(QR)\n",
    "schedule.every().day.at(\"17:50:00\").do(QR)\n",
    "\n",
    "#check\n",
    "schedule.every().day.at(\"09:59:57\").do(check)\n",
    "schedule.every().day.at(\"14:59:57\").do(check)\n",
    "\n",
    "#lunch\n",
    "schedule.every().day.at(\"12:49:55\").do(lunch)\n",
    "\n",
    "\n",
    "#capture\n",
    "schedule.every().day.at(\"11:00:00\").do(capture)\n",
    "schedule.every().day.at(\"11:00:00\").do(tkinter)\n",
    "\n",
    "schedule.every().day.at(\"12:00:00\").do(capture)\n",
    "schedule.every().day.at(\"12:00:00\").do(tkinter)\n",
    "\n",
    "schedule.every().day.at(\"14:00:00\").do(capture)\n",
    "schedule.every().day.at(\"14:00:00\").do(tkinter)\n",
    "\n",
    "schedule.every().day.at(\"16:00:00\").do(capture)\n",
    "schedule.every().day.at(\"16:00:00\").do(tkinter)\n",
    "\n",
    "schedule.every().day.at(\"17:00:00\").do(capture)\n",
    "schedule.every().day.at(\"17:00:00\").do(tkinter)\n",
    "\n",
    "\n",
    "\n",
    "\n",
    "\n",
    "#notification\n",
    "\n",
    "#imported QR\n",
    "schedule.every().day.at(\"09:49:57\").do(notification)\n",
    "#imported check\n",
    "schedule.every().day.at(\"10:49:57\").do(notification)\n",
    "#imported capture \n",
    "schedule.every().day.at(\"11:49:57\").do(notification)\n",
    "#imported capture \n",
    "\n",
    "#imported lunch\n",
    "\n",
    "#imported capture \n",
    "schedule.every().day.at(\"14:49:57\").do(notification)\n",
    "schedule.every().day.at(\"15:49:57\").do(notification)\n",
    "#imported capture \n",
    "schedule.every().day.at(\"16:49:57\").do(notification)\n",
    "#imported capture \n",
    "\n",
    "\n",
    "while True:\n",
    "    schedule.run_pending()\n",
    "    time.sleep(1)"
   ]
  },
  {
   "cell_type": "code",
   "execution_count": 10,
   "id": "4d037eb5",
   "metadata": {},
   "outputs": [
    {
     "name": "stderr",
     "output_type": "stream",
     "text": [
      "ERROR: Could not find a version that satisfies the requirement tkinter\n",
      "ERROR: No matching distribution found for tkinter\n"
     ]
    }
   ],
   "source": [
    "!pip install tkinter"
   ]
  }
 ],
 "metadata": {
  "kernelspec": {
   "display_name": "Python 3",
   "language": "python",
   "name": "python3"
  },
  "language_info": {
   "codemirror_mode": {
    "name": "ipython",
    "version": 3
   },
   "file_extension": ".py",
   "mimetype": "text/x-python",
   "name": "python",
   "nbconvert_exporter": "python",
   "pygments_lexer": "ipython3",
   "version": "3.8.11"
  },
  "varInspector": {
   "cols": {
    "lenName": 16,
    "lenType": 16,
    "lenVar": 40
   },
   "kernels_config": {
    "python": {
     "delete_cmd_postfix": "",
     "delete_cmd_prefix": "del ",
     "library": "var_list.py",
     "varRefreshCmd": "print(var_dic_list())"
    },
    "r": {
     "delete_cmd_postfix": ") ",
     "delete_cmd_prefix": "rm(",
     "library": "var_list.r",
     "varRefreshCmd": "cat(var_dic_list()) "
    }
   },
   "types_to_exclude": [
    "module",
    "function",
    "builtin_function_or_method",
    "instance",
    "_Feature"
   ],
   "window_display": false
  },
  "widgets": {
   "application/vnd.jupyter.widget-state+json": {
    "state": {},
    "version_major": 2,
    "version_minor": 0
   }
  }
 },
 "nbformat": 4,
 "nbformat_minor": 5
}

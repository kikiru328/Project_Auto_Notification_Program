{
 "cells": [
  {
   "cell_type": "code",
   "execution_count": 1,
   "id": "573eae93",
   "metadata": {},
   "outputs": [
    {
     "data": {
      "text/plain": [
       "Every 1 week at 08:00:00 do BB99() (last run: [never], next run: 2021-08-19 08:00:00)"
      ]
     },
     "execution_count": 1,
     "metadata": {},
     "output_type": "execute_result"
    }
   ],
   "source": [
    "import win10toast\n",
    "import schedule \n",
    "import time \n",
    "\n",
    "\n",
    "noti = win10toast.ToastNotifier()\n",
    "\n",
    "def manga():\n",
    "    noti.show_toast('Remainder!!!!', 'Catch up on the lastest Mangas.', duration=15)\n",
    "def LN():\n",
    "    noti.show_toast('Remainder!!!!', 'Catch up on the lastest Light Novels.', duration=15)\n",
    "def BB99():\n",
    "    noti.show_toast('Remainder!!!!', 'Catch up on the lastest episode of BB99.', duration=15)\n",
    "\n",
    "schedule.every().friday.at(\"17:00\").do(manga) \n",
    "schedule.every().day.at(\"16:00\").do(LN) \n",
    "schedule.every().thursday.at(\"08:00\").do(BB99) "
   ]
  },
  {
   "cell_type": "code",
   "execution_count": null,
   "id": "701de43c",
   "metadata": {},
   "outputs": [],
   "source": []
  }
 ],
 "metadata": {
  "kernelspec": {
   "display_name": "Python 3",
   "language": "python",
   "name": "python3"
  },
  "language_info": {
   "codemirror_mode": {
    "name": "ipython",
    "version": 3
   },
   "file_extension": ".py",
   "mimetype": "text/x-python",
   "name": "python",
   "nbconvert_exporter": "python",
   "pygments_lexer": "ipython3",
   "version": "3.8.11"
  },
  "varInspector": {
   "cols": {
    "lenName": 16,
    "lenType": 16,
    "lenVar": 40
   },
   "kernels_config": {
    "python": {
     "delete_cmd_postfix": "",
     "delete_cmd_prefix": "del ",
     "library": "var_list.py",
     "varRefreshCmd": "print(var_dic_list())"
    },
    "r": {
     "delete_cmd_postfix": ") ",
     "delete_cmd_prefix": "rm(",
     "library": "var_list.r",
     "varRefreshCmd": "cat(var_dic_list()) "
    }
   },
   "types_to_exclude": [
    "module",
    "function",
    "builtin_function_or_method",
    "instance",
    "_Feature"
   ],
   "window_display": false
  }
 },
 "nbformat": 4,
 "nbformat_minor": 5
}

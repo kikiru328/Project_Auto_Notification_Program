{
 "cells": [
  {
   "cell_type": "code",
   "execution_count": 2,
   "id": "be4ef3dc-ab06-4b9c-9f84-cb3dc681a10e",
   "metadata": {},
   "outputs": [],
   "source": [
    "# B 1.0.3 script"
   ]
  },
  {
   "cell_type": "code",
   "execution_count": 6,
   "id": "efdd922c-7b19-4a0d-a874-0a920b13d6e1",
   "metadata": {},
   "outputs": [],
   "source": [
    "# module import\n",
    "\n",
    "# module for plyer\n",
    "from plyer import notification\n",
    "\n",
    "# module for attribute\n",
    "import pyautogui\n",
    "import tkinter as tk\n",
    "from tkinter import filedialog\n",
    "import os\n",
    "import datetime as dt\n",
    "import numpy as np\n",
    "\n",
    "# moulde for operate\n",
    "import schedule\n",
    "import time\n",
    "\n",
    "\n",
    "\n",
    "\n",
    "\n",
    "def break_time():\n",
    "    if __name__ == \"__main__\":\n",
    "        notification.notify(\n",
    "        title = \"쉬는시간입니다!\",\n",
    "        message = \"10분간 몸과 뇌를 새로고침하세요\",\n",
    "        app_name = 'CAKD3',\n",
    "        app_icon= 'clock_icon.ico',\n",
    "        timeout = 5)\n",
    "    return\n",
    "\n",
    "\n",
    "def lunch():\n",
    "    if __name__ == \"__main__\":\n",
    "        notification.notify(\n",
    "        title = \"점심시간입니다!\",\n",
    "        message = \"14:00까지 식사하고 쉬고 오세요\",\n",
    "        app_name = 'CAKD3',\n",
    "        app_icon= 'lunch.ico',\n",
    "        timeout = 5)\n",
    "    return\n",
    "\n",
    "\n",
    "def check():\n",
    "    if __name__ == \"__main__\":\n",
    "        notification.notify(\n",
    "        title = \"신호출결!\",\n",
    "        message = \"신호출결을 하시기 바랍니다!\\n<14:00 - 14:48> 중 랜덤으로\\n 1회 신호출결이 진행됩니다\",\n",
    "        app_name = 'CAKD3',\n",
    "        app_icon= 'check.ico',\n",
    "        timeout = 5)\n",
    "    return\n",
    "\n",
    "def random_minute():\n",
    "    return np.random.randint(3,40)\n",
    "\n",
    "min_ = random_minute()\n",
    "random_check = dt.time(14,int(f'{min_}'),00).strftime('%H:%M:%S')\n",
    "\n",
    "\n",
    "def class_start():\n",
    "    if __name__ == \"__main__\":\n",
    "        notification.notify(\n",
    "        title = \"수업시작!\",\n",
    "        message = \"자리에 앉아 코딩합시다\",\n",
    "        app_name = 'CAKD3',\n",
    "        app_icon= 'board.ico',\n",
    "        timeout = 5)\n",
    "    return\n",
    "\n",
    "\n",
    "def QR():\n",
    "    from PIL import Image\n",
    "    if __name__ == '__main__':\n",
    "        im = Image.open('qrcode.png')\n",
    "        im.show()     \n",
    "        \n",
    "def prog_s():\n",
    "    if __name__ == \"__main__\":\n",
    "        notification.notify(\n",
    "        title = \"프로그램!\",\n",
    "        message = \"자동프로그램이 시작됩니다.\",\n",
    "        app_name = 'CAKD3',\n",
    "        app_icon= 'emoji.ico',\n",
    "        timeout = 5)\n",
    "    return"
   ]
  },
  {
   "cell_type": "code",
   "execution_count": 9,
   "id": "765f938e-f2dd-49f6-801f-31267fa4fbc8",
   "metadata": {},
   "outputs": [
    {
     "ename": "NameError",
     "evalue": "name 'class_start' is not defined",
     "output_type": "error",
     "traceback": [
      "\u001b[1;31m---------------------------------------------------------------------------\u001b[0m",
      "\u001b[1;31mNameError\u001b[0m                                 Traceback (most recent call last)",
      "\u001b[1;32m<ipython-input-9-9d0c9eda3ab7>\u001b[0m in \u001b[0;36m<module>\u001b[1;34m\u001b[0m\n\u001b[0;32m      5\u001b[0m \u001b[1;31m#QR\u001b[0m\u001b[1;33m\u001b[0m\u001b[1;33m\u001b[0m\u001b[1;33m\u001b[0m\u001b[0m\n\u001b[0;32m      6\u001b[0m \u001b[0mschedule\u001b[0m\u001b[1;33m.\u001b[0m\u001b[0mevery\u001b[0m\u001b[1;33m(\u001b[0m\u001b[1;33m)\u001b[0m\u001b[1;33m.\u001b[0m\u001b[0mday\u001b[0m\u001b[1;33m.\u001b[0m\u001b[0mat\u001b[0m\u001b[1;33m(\u001b[0m\u001b[1;34m\"08:50:00\"\u001b[0m\u001b[1;33m)\u001b[0m\u001b[1;33m.\u001b[0m\u001b[0mdo\u001b[0m\u001b[1;33m(\u001b[0m\u001b[0moperation\u001b[0m\u001b[1;33m.\u001b[0m\u001b[0mQR\u001b[0m\u001b[1;33m)\u001b[0m\u001b[1;33m\u001b[0m\u001b[1;33m\u001b[0m\u001b[0m\n\u001b[1;32m----> 7\u001b[1;33m \u001b[0mschedule\u001b[0m\u001b[1;33m.\u001b[0m\u001b[0mevery\u001b[0m\u001b[1;33m(\u001b[0m\u001b[1;33m)\u001b[0m\u001b[1;33m.\u001b[0m\u001b[0mday\u001b[0m\u001b[1;33m.\u001b[0m\u001b[0mat\u001b[0m\u001b[1;33m(\u001b[0m\u001b[1;34m\"09:00:00\"\u001b[0m\u001b[1;33m)\u001b[0m\u001b[1;33m.\u001b[0m\u001b[0mdo\u001b[0m\u001b[1;33m(\u001b[0m\u001b[0mclass_start\u001b[0m\u001b[1;33m)\u001b[0m\u001b[1;33m\u001b[0m\u001b[1;33m\u001b[0m\u001b[0m\n\u001b[0m\u001b[0;32m      8\u001b[0m \u001b[0mschedule\u001b[0m\u001b[1;33m.\u001b[0m\u001b[0mevery\u001b[0m\u001b[1;33m(\u001b[0m\u001b[1;33m)\u001b[0m\u001b[1;33m.\u001b[0m\u001b[0mday\u001b[0m\u001b[1;33m.\u001b[0m\u001b[0mat\u001b[0m\u001b[1;33m(\u001b[0m\u001b[1;34m\"09:49:57\"\u001b[0m\u001b[1;33m)\u001b[0m\u001b[1;33m.\u001b[0m\u001b[0mdo\u001b[0m\u001b[1;33m(\u001b[0m\u001b[0mbreak_time\u001b[0m\u001b[1;33m)\u001b[0m\u001b[1;33m\u001b[0m\u001b[1;33m\u001b[0m\u001b[0m\n\u001b[0;32m      9\u001b[0m \u001b[1;33m\u001b[0m\u001b[0m\n",
      "\u001b[1;31mNameError\u001b[0m: name 'class_start' is not defined"
     ]
    }
   ],
   "source": [
    "#checking\n",
    "prog_s()\n",
    "\n",
    "\n",
    "#QR\n",
    "schedule.every().day.at(\"08:50:00\").do(QR)\n",
    "schedule.every().day.at(\"09:00:00\").do(class_start)\n",
    "schedule.every().day.at(\"09:49:57\").do(break_time)\n",
    "\n",
    "schedule.every().day.at(\"10:00:00\").do(class_start)\n",
    "schedule.every().day.at(\"10:49:57\").do(break_time)\n",
    " \n",
    "\n",
    "schedule.every().day.at(\"11:00:00\").do(class_start)\n",
    "schedule.every().day.at(\"11:49:57\").do(break_time)\n",
    "\n",
    "\n",
    "schedule.every().day.at(\"12:00:00\").do(class_start)\n",
    "schedule.every().day.at(\"12:49:55\").do(lunch)\n",
    "\n",
    "schedule.every().day.at(\"14:00:00\").do(class_start)\n",
    "schedule.every().day.at(f\"{random_check}\").do(check)\n",
    "schedule.every().day.at(\"14:49:57\").do(break_time)\n",
    "\n",
    "\n",
    "schedule.every().day.at(\"14:59:57\").do(class_start)\n",
    "schedule.every().day.at(\"15:49:57\").do(break_time)\n",
    "\n",
    "\n",
    "schedule.every().day.at(\"16:00:00\").do(class_start)\n",
    "schedule.every().day.at(\"16:49:57\").do(break_time)\n",
    "\n",
    "\n",
    "schedule.every().day.at(\"17:00:00\").do(class_start)\n",
    "schedule.every().day.at(\"17:50:00\").do(QR)\n",
    "\n",
    "\n",
    "schedule.every().day.at(f\"{random_check}\").do(QR)\n",
    "\n",
    "\n",
    "while True:\n",
    "    schedule.run_pending()\n",
    "    time.sleep(1)"
   ]
  },
  {
   "cell_type": "code",
   "execution_count": 24,
   "id": "0541eb93-2467-4a55-8798-f44e6f142caa",
   "metadata": {},
   "outputs": [],
   "source": [
    "import speech_recognition as sr\n",
    "import pyttsx3"
   ]
  },
  {
   "cell_type": "code",
   "execution_count": 25,
   "id": "43cfb9e6-0a1b-4c44-97e4-6e9863b2dd29",
   "metadata": {},
   "outputs": [
    {
     "ename": "AttributeError",
     "evalue": "Could not find PyAudio; check installation",
     "output_type": "error",
     "traceback": [
      "\u001b[1;31m---------------------------------------------------------------------------\u001b[0m",
      "\u001b[1;31mModuleNotFoundError\u001b[0m                       Traceback (most recent call last)",
      "\u001b[1;32mC:\\Tools\\anaconda3\\envs\\cakd3\\lib\\site-packages\\speech_recognition\\__init__.py\u001b[0m in \u001b[0;36mget_pyaudio\u001b[1;34m()\u001b[0m\n\u001b[0;32m    107\u001b[0m         \u001b[1;32mtry\u001b[0m\u001b[1;33m:\u001b[0m\u001b[1;33m\u001b[0m\u001b[1;33m\u001b[0m\u001b[0m\n\u001b[1;32m--> 108\u001b[1;33m             \u001b[1;32mimport\u001b[0m \u001b[0mpyaudio\u001b[0m\u001b[1;33m\u001b[0m\u001b[1;33m\u001b[0m\u001b[0m\n\u001b[0m\u001b[0;32m    109\u001b[0m         \u001b[1;32mexcept\u001b[0m \u001b[0mImportError\u001b[0m\u001b[1;33m:\u001b[0m\u001b[1;33m\u001b[0m\u001b[1;33m\u001b[0m\u001b[0m\n",
      "\u001b[1;31mModuleNotFoundError\u001b[0m: No module named 'pyaudio'",
      "\nDuring handling of the above exception, another exception occurred:\n",
      "\u001b[1;31mAttributeError\u001b[0m                            Traceback (most recent call last)",
      "\u001b[1;32m<ipython-input-25-afc8cdbf4d02>\u001b[0m in \u001b[0;36m<module>\u001b[1;34m\u001b[0m\n\u001b[0;32m      9\u001b[0m     \u001b[1;32mtry\u001b[0m\u001b[1;33m:\u001b[0m\u001b[1;33m\u001b[0m\u001b[1;33m\u001b[0m\u001b[0m\n\u001b[0;32m     10\u001b[0m \u001b[1;33m\u001b[0m\u001b[0m\n\u001b[1;32m---> 11\u001b[1;33m         \u001b[1;32mwith\u001b[0m \u001b[0msr\u001b[0m\u001b[1;33m.\u001b[0m\u001b[0mMicrophone\u001b[0m\u001b[1;33m(\u001b[0m\u001b[1;33m)\u001b[0m \u001b[1;32mas\u001b[0m \u001b[0msource2\u001b[0m\u001b[1;33m:\u001b[0m\u001b[1;33m\u001b[0m\u001b[1;33m\u001b[0m\u001b[0m\n\u001b[0m\u001b[0;32m     12\u001b[0m \u001b[1;33m\u001b[0m\u001b[0m\n\u001b[0;32m     13\u001b[0m \u001b[1;33m\u001b[0m\u001b[0m\n",
      "\u001b[1;32mC:\\Tools\\anaconda3\\envs\\cakd3\\lib\\site-packages\\speech_recognition\\__init__.py\u001b[0m in \u001b[0;36m__init__\u001b[1;34m(self, device_index, sample_rate, chunk_size)\u001b[0m\n\u001b[0;32m     77\u001b[0m \u001b[1;33m\u001b[0m\u001b[0m\n\u001b[0;32m     78\u001b[0m         \u001b[1;31m# set up PyAudio\u001b[0m\u001b[1;33m\u001b[0m\u001b[1;33m\u001b[0m\u001b[1;33m\u001b[0m\u001b[0m\n\u001b[1;32m---> 79\u001b[1;33m         \u001b[0mself\u001b[0m\u001b[1;33m.\u001b[0m\u001b[0mpyaudio_module\u001b[0m \u001b[1;33m=\u001b[0m \u001b[0mself\u001b[0m\u001b[1;33m.\u001b[0m\u001b[0mget_pyaudio\u001b[0m\u001b[1;33m(\u001b[0m\u001b[1;33m)\u001b[0m\u001b[1;33m\u001b[0m\u001b[1;33m\u001b[0m\u001b[0m\n\u001b[0m\u001b[0;32m     80\u001b[0m         \u001b[0maudio\u001b[0m \u001b[1;33m=\u001b[0m \u001b[0mself\u001b[0m\u001b[1;33m.\u001b[0m\u001b[0mpyaudio_module\u001b[0m\u001b[1;33m.\u001b[0m\u001b[0mPyAudio\u001b[0m\u001b[1;33m(\u001b[0m\u001b[1;33m)\u001b[0m\u001b[1;33m\u001b[0m\u001b[1;33m\u001b[0m\u001b[0m\n\u001b[0;32m     81\u001b[0m         \u001b[1;32mtry\u001b[0m\u001b[1;33m:\u001b[0m\u001b[1;33m\u001b[0m\u001b[1;33m\u001b[0m\u001b[0m\n",
      "\u001b[1;32mC:\\Tools\\anaconda3\\envs\\cakd3\\lib\\site-packages\\speech_recognition\\__init__.py\u001b[0m in \u001b[0;36mget_pyaudio\u001b[1;34m()\u001b[0m\n\u001b[0;32m    108\u001b[0m             \u001b[1;32mimport\u001b[0m \u001b[0mpyaudio\u001b[0m\u001b[1;33m\u001b[0m\u001b[1;33m\u001b[0m\u001b[0m\n\u001b[0;32m    109\u001b[0m         \u001b[1;32mexcept\u001b[0m \u001b[0mImportError\u001b[0m\u001b[1;33m:\u001b[0m\u001b[1;33m\u001b[0m\u001b[1;33m\u001b[0m\u001b[0m\n\u001b[1;32m--> 110\u001b[1;33m             \u001b[1;32mraise\u001b[0m \u001b[0mAttributeError\u001b[0m\u001b[1;33m(\u001b[0m\u001b[1;34m\"Could not find PyAudio; check installation\"\u001b[0m\u001b[1;33m)\u001b[0m\u001b[1;33m\u001b[0m\u001b[1;33m\u001b[0m\u001b[0m\n\u001b[0m\u001b[0;32m    111\u001b[0m         \u001b[1;32mfrom\u001b[0m \u001b[0mdistutils\u001b[0m\u001b[1;33m.\u001b[0m\u001b[0mversion\u001b[0m \u001b[1;32mimport\u001b[0m \u001b[0mLooseVersion\u001b[0m\u001b[1;33m\u001b[0m\u001b[1;33m\u001b[0m\u001b[0m\n\u001b[0;32m    112\u001b[0m         \u001b[1;32mif\u001b[0m \u001b[0mLooseVersion\u001b[0m\u001b[1;33m(\u001b[0m\u001b[0mpyaudio\u001b[0m\u001b[1;33m.\u001b[0m\u001b[0m__version__\u001b[0m\u001b[1;33m)\u001b[0m \u001b[1;33m<\u001b[0m \u001b[0mLooseVersion\u001b[0m\u001b[1;33m(\u001b[0m\u001b[1;34m\"0.2.11\"\u001b[0m\u001b[1;33m)\u001b[0m\u001b[1;33m:\u001b[0m\u001b[1;33m\u001b[0m\u001b[1;33m\u001b[0m\u001b[0m\n",
      "\u001b[1;31mAttributeError\u001b[0m: Could not find PyAudio; check installation"
     ]
    }
   ],
   "source": [
    "r = sr.Recognizer()\n",
    "def SpeakTesx(command):\n",
    "    engine = pyttsx3.init()\n",
    "    engine.say(command) \n",
    "    engine.runAndWait()\n",
    "    \n",
    "while(1):    \n",
    "\n",
    "    try:\n",
    "\n",
    "        with sr.Microphone() as source2:\n",
    "              \n",
    "\n",
    "            r.adjust_for_ambient_noise(source2, duration=0.2)\n",
    "              \n",
    "            audio2 = r.listen(source2)\n",
    "\n",
    "            MyText = r.recognize_google(audio2)\n",
    "            MyText = MyText.lower()\n",
    "  \n",
    "            print(\"Did you say \"+MyText)\n",
    "            SpeakText(MyText)\n",
    "              \n",
    "    except sr.RequestError as e:\n",
    "        print(\"Could not request results; {0}\".format(e))\n",
    "          \n",
    "    except sr.UnknownValueError:\n",
    "        print(\"unknown error occured\")\n",
    "\n",
    "    "
   ]
  },
  {
   "cell_type": "code",
   "execution_count": 27,
   "id": "865e7cfc-06dc-4846-86f2-dfd961f537a4",
   "metadata": {},
   "outputs": [
    {
     "name": "stderr",
     "output_type": "stream",
     "text": [
      "ERROR: Could not find a version that satisfies the requirement python-pyaudio\n",
      "ERROR: No matching distribution found for python-pyaudio\n"
     ]
    }
   ],
   "source": [
    "!pip install python-pyaudio"
   ]
  },
  {
   "cell_type": "code",
   "execution_count": 28,
   "id": "8556d833-b94f-47fb-a74f-e3c77aeb4e42",
   "metadata": {},
   "outputs": [
    {
     "name": "stderr",
     "output_type": "stream",
     "text": [
      "'pipwin'은(는) 내부 또는 외부 명령, 실행할 수 있는 프로그램, 또는\n",
      "배치 파일이 아닙니다.\n"
     ]
    }
   ],
   "source": [
    "!pipwin install pyaudio"
   ]
  },
  {
   "cell_type": "code",
   "execution_count": null,
   "id": "2463237b-b38c-4319-93dc-2bd964961da1",
   "metadata": {},
   "outputs": [],
   "source": [
    "!conda install PyAudio"
   ]
  },
  {
   "cell_type": "code",
   "execution_count": null,
   "id": "ec524ecd-f750-4b97-a24e-5952a12d773c",
   "metadata": {},
   "outputs": [],
   "source": []
  }
 ],
 "metadata": {
  "kernelspec": {
   "display_name": "Python 3",
   "language": "python",
   "name": "python3"
  },
  "language_info": {
   "codemirror_mode": {
    "name": "ipython",
    "version": 3
   },
   "file_extension": ".py",
   "mimetype": "text/x-python",
   "name": "python",
   "nbconvert_exporter": "python",
   "pygments_lexer": "ipython3",
   "version": "3.8.11"
  }
 },
 "nbformat": 4,
 "nbformat_minor": 5
}

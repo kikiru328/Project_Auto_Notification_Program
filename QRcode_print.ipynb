{
 "cells": [
  {
   "cell_type": "code",
   "execution_count": 8,
   "id": "3acc898b",
   "metadata": {},
   "outputs": [],
   "source": [
    "from PIL import Image\n",
    "im = Image.open('D:\\CAKD3\\Workspace\\Lazy_project\\AUTO_attendence_CHECK_Program\\qrcode.png')\n",
    "im.show()\n"
   ]
  },
  {
   "cell_type": "code",
   "execution_count": 5,
   "id": "bf975b1b",
   "metadata": {},
   "outputs": [],
   "source": [
    "from tkinter import *\n",
    "path = '1234'\n",
    "def alert_popup(title, message, path):\n",
    "    \"\"\"Generate a pop-up window for special messages.\"\"\"\n",
    "    root = Tk()\n",
    "    root.title(title)\n",
    "    w = 400     # popup window width\n",
    "    h = 200     # popup window height\n",
    "    sw = root.winfo_screenwidth()\n",
    "    sh = root.winfo_screenheight()\n",
    "    x = (sw - w)/2\n",
    "    y = (sh - h)/2\n",
    "    root.geometry('%dx%d+%d+%d' % (w, h, x, y))\n",
    "    m = message\n",
    "    m += '\\n'\n",
    "    m += path\n",
    "    w = Label(root, text=m, width=120, height=10)\n",
    "    w.pack()\n",
    "    b = Button(root, text=\"OK\", command=root.destroy, width=10)\n",
    "    b.pack()\n",
    "    mainloop()"
   ]
  },
  {
   "cell_type": "code",
   "execution_count": 7,
   "id": "3b8c097c",
   "metadata": {},
   "outputs": [],
   "source": [
    "# path = 'D:\\CAKD3\\Workspace\\Lazy_project\\AUTO_attendence_CHECK_Program\\qrcode.png'\n",
    "alert_popup('QR','QR체크',path)"
   ]
  },
  {
   "cell_type": "code",
   "execution_count": null,
   "id": "b31d022c",
   "metadata": {},
   "outputs": [],
   "source": [
    "from tkinter import filedialog\n",
    "from tkinter import *\n",
    "\n",
    "root = Tk()\n",
    "root.filename =  filedialog.askopenfilename(initialdir = \"/\",title = \"Select file\",filetypes = ((\"jpeg files\",\"*.jpg\"),(\"all files\",\"*.*\")))\n",
    "print (root.filename) #returns file path"
   ]
  }
 ],
 "metadata": {
  "kernelspec": {
   "display_name": "Python 3",
   "language": "python",
   "name": "python3"
  },
  "language_info": {
   "codemirror_mode": {
    "name": "ipython",
    "version": 3
   },
   "file_extension": ".py",
   "mimetype": "text/x-python",
   "name": "python",
   "nbconvert_exporter": "python",
   "pygments_lexer": "ipython3",
   "version": "3.8.11"
  },
  "varInspector": {
   "cols": {
    "lenName": 16,
    "lenType": 16,
    "lenVar": 40
   },
   "kernels_config": {
    "python": {
     "delete_cmd_postfix": "",
     "delete_cmd_prefix": "del ",
     "library": "var_list.py",
     "varRefreshCmd": "print(var_dic_list())"
    },
    "r": {
     "delete_cmd_postfix": ") ",
     "delete_cmd_prefix": "rm(",
     "library": "var_list.r",
     "varRefreshCmd": "cat(var_dic_list()) "
    }
   },
   "types_to_exclude": [
    "module",
    "function",
    "builtin_function_or_method",
    "instance",
    "_Feature"
   ],
   "window_display": false
  }
 },
 "nbformat": 4,
 "nbformat_minor": 5
}

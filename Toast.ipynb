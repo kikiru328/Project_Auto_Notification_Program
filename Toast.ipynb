{
 "cells": [
  {
   "cell_type": "code",
   "execution_count": 2,
   "id": "9c7e5ebe",
   "metadata": {},
   "outputs": [
    {
     "name": "stderr",
     "output_type": "stream",
     "text": [
      "ERROR:root:Some trouble with the icon (C:\\break_icon.ico): (2, 'LoadImage', '지정된 파일을 찾을 수 없습니다.')\n"
     ]
    }
   ],
   "source": [
    "import time\n",
    "from win10toast import ToastNotifier\n",
    "def  notification():\n",
    "    if __name__ == \"__main__\":\n",
    "        toaster = ToastNotifier()\n",
    "        toaster.show_toast(\n",
    "            title = \"쉬는시간입니다!\",\n",
    "            msg = \"지금부터 10분간 몸과 뇌를 새로고침하세요\",\n",
    "            icon_path= r'C:\\break_icon.ico',\n",
    "            duration=5,\n",
    "            threaded=False)\n",
    "        while toaster.notification_active():\n",
    "                  time.sleep(0.1)\n",
    "                \n",
    "                \n",
    "notification()"
   ]
  },
  {
   "cell_type": "code",
   "execution_count": 3,
   "id": "95db4c4f",
   "metadata": {},
   "outputs": [],
   "source": [
    "notification()"
   ]
  },
  {
   "cell_type": "code",
   "execution_count": null,
   "id": "1285997d",
   "metadata": {},
   "outputs": [],
   "source": []
  }
 ],
 "metadata": {
  "kernelspec": {
   "display_name": "Python 3",
   "language": "python",
   "name": "python3"
  },
  "language_info": {
   "codemirror_mode": {
    "name": "ipython",
    "version": 3
   },
   "file_extension": ".py",
   "mimetype": "text/x-python",
   "name": "python",
   "nbconvert_exporter": "python",
   "pygments_lexer": "ipython3",
   "version": "3.8.10"
  },
  "varInspector": {
   "cols": {
    "lenName": 16,
    "lenType": 16,
    "lenVar": 40
   },
   "kernels_config": {
    "python": {
     "delete_cmd_postfix": "",
     "delete_cmd_prefix": "del ",
     "library": "var_list.py",
     "varRefreshCmd": "print(var_dic_list())"
    },
    "r": {
     "delete_cmd_postfix": ") ",
     "delete_cmd_prefix": "rm(",
     "library": "var_list.r",
     "varRefreshCmd": "cat(var_dic_list()) "
    }
   },
   "types_to_exclude": [
    "module",
    "function",
    "builtin_function_or_method",
    "instance",
    "_Feature"
   ],
   "window_display": false
  }
 },
 "nbformat": 4,
 "nbformat_minor": 5
}

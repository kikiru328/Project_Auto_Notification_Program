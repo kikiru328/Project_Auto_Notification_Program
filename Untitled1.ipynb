{
 "cells": [
  {
   "cell_type": "code",
   "execution_count": 2,
   "id": "f9b24af6-ec2a-4142-b7ff-21cbe51ede5d",
   "metadata": {},
   "outputs": [],
   "source": [
    "from win10toast import ToastNotifier"
   ]
  },
  {
   "cell_type": "code",
   "execution_count": 16,
   "id": "f7ce5389-8d29-4858-a72e-08e6e435d9f4",
   "metadata": {},
   "outputs": [],
   "source": [
    "import schedule"
   ]
  },
  {
   "cell_type": "code",
   "execution_count": 49,
   "id": "f31cc057-0510-426f-90b3-40c14ea22248",
   "metadata": {
    "tags": []
   },
   "outputs": [],
   "source": [
    "toaster = ToastNotifier()\n",
    "def noti():\n",
    "    toaster.show_toast(\"쉬는 시간입니다!\", \"지금부터 10분간 휴식시간입니다!\",threaded=True, icon_path=None,duration=5)\n",
    "schedule.every(3).seconds.do(noti)\n",
    "import time\n",
    "while toaster.notification_active():\n",
    "    time.sleep(0.1)\n",
    "        "
   ]
  },
  {
   "cell_type": "code",
   "execution_count": 48,
   "id": "2e35302f-d529-4029-8d1a-ad82e51b7ff0",
   "metadata": {},
   "outputs": [],
   "source": [
    "noti()"
   ]
  },
  {
   "cell_type": "code",
   "execution_count": 64,
   "id": "0daf6325-f11f-45c2-9198-3492b35d52c2",
   "metadata": {},
   "outputs": [],
   "source": [
    "from win10toast import ToastNotifier\n",
    "toaster = ToastNotifier()\n",
    "def noti():\n",
    "    toaster.show_toast(\"AA\",\"BB\",threaded=True,icon_path=None,duration=5)\n",
    "    \n",
    "    schedule.every(3).seconds.do(noti)\n",
    "    while toaster.notification_active():\n",
    "        time.sleep(0.1)"
   ]
  },
  {
   "cell_type": "code",
   "execution_count": 65,
   "id": "1c833824-4034-44dc-84b5-3ebc26efa4f4",
   "metadata": {},
   "outputs": [],
   "source": [
    "noti()"
   ]
  },
  {
   "cell_type": "code",
   "execution_count": null,
   "id": "44c56280-6200-45b2-99eb-afc7888d6abe",
   "metadata": {},
   "outputs": [],
   "source": []
  }
 ],
 "metadata": {
  "kernelspec": {
   "display_name": "Python 3",
   "language": "python",
   "name": "python3"
  },
  "language_info": {
   "codemirror_mode": {
    "name": "ipython",
    "version": 3
   },
   "file_extension": ".py",
   "mimetype": "text/x-python",
   "name": "python",
   "nbconvert_exporter": "python",
   "pygments_lexer": "ipython3",
   "version": "3.8.11"
  }
 },
 "nbformat": 4,
 "nbformat_minor": 5
}

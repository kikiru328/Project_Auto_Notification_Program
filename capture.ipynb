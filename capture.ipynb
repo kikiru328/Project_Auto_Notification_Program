{
 "cells": [
  {
   "cell_type": "code",
   "execution_count": 2,
   "id": "4572909e-555a-43f5-af43-583c2e0584f2",
   "metadata": {},
   "outputs": [],
   "source": [
    "import pyautogui\n",
    "\n",
    "import tkinter as tk\n",
    "\n",
    "from tkinter import filedialog\n",
    "import os\n",
    "# import selenium\n",
    "\n",
    "# from selenium import webdriver\n",
    "\n",
    "root = tk.Tk()\n",
    "\n",
    "canvas1 = tk.Canvas(root,width=210,height=50)\n",
    "\n",
    "canvas1.pack()\n",
    "\n",
    "def takeScreenshot():\n",
    "    myScreenshot = pyautogui.screenshot()\n",
    "    \n",
    "    file_path = filedialog.asksaveasfilename(initialdir='C:/workspace/',defaultextension='.png')\n",
    "#     file_path = filedialog.asksaveasfilename(initialdir='C:/workspace/', title='Save File', filetypes=(('png Files', 'png.*'), ('All Files', '*.*')))\n",
    "\n",
    "    myScreenshot.save(file_path)\n",
    "    \n",
    "    \n",
    "    \n",
    "\n",
    "\n",
    "myButton = tk.Button(text=\"캡처저장\",command=takeScreenshot,bg='skyblue',fg='blue',font=10)\n",
    "\n",
    "canvas1.create_window(50,20,window=myButton)\n",
    "\n",
    "def open_folder():\n",
    "    os.startfile('C:/workspace/')\n",
    "    import webbrowser\n",
    "\n",
    "    webbrowser.open_new_tab(\"https://drive.google.com/drive/folders/1SgyRIMz4sqFhLcaGUY9RF04eNpTtlCKC\")\n",
    "\n",
    "    \n",
    "\n",
    "myButton1 = tk.Button(text=\"저장폴더열기\",command=open_folder,bg='green',fg='blue',font=10)    \n",
    "canvas1.create_window(150,20,window=myButton1)    \n",
    "    \n",
    "\n",
    "# def open_drive():\n",
    "#     url = \"https://drive.google.com\"\n",
    "#     path = 'C:/tool/chromedriver.exe' #절대경로\n",
    "#     driver = webdriver.Chrome(path)\n",
    "#     driver.get(url)\n",
    "    \n",
    "\n",
    "# myButton1 = tk.Button(text=\"업로드\",command=open_drive,bg='green',fg='blue',font=10)    \n",
    "# canvas1.create_window(100,20,window=myButton1)    \n",
    "    \n",
    "    \n",
    "root.mainloop()"
   ]
  },
  {
   "cell_type": "code",
   "execution_count": null,
   "id": "70850fe9-e99f-48e5-9f1a-b1a788b9085d",
   "metadata": {},
   "outputs": [],
   "source": []
  }
 ],
 "metadata": {
  "kernelspec": {
   "display_name": "Python 3",
   "language": "python",
   "name": "python3"
  },
  "language_info": {
   "codemirror_mode": {
    "name": "ipython",
    "version": 3
   },
   "file_extension": ".py",
   "mimetype": "text/x-python",
   "name": "python",
   "nbconvert_exporter": "python",
   "pygments_lexer": "ipython3",
   "version": "3.8.10"
  },
  "widgets": {
   "application/vnd.jupyter.widget-state+json": {
    "state": {},
    "version_major": 2,
    "version_minor": 0
   }
  }
 },
 "nbformat": 4,
 "nbformat_minor": 5
}

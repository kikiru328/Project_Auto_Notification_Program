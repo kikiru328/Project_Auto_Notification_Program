{
 "cells": [
  {
   "cell_type": "code",
   "execution_count": 1,
   "id": "1eaf7714-a6c5-4de5-8d1b-5fe4963938a7",
   "metadata": {},
   "outputs": [],
   "source": [
    "# module import\n",
    "\n",
    "import schedule\n",
    "import time\n",
    "import pyautogui\n",
    "import tkinter as tk\n",
    "from tkinter import filedialog\n",
    "import os\n",
    "import datetime as dt\n",
    "import webbrowser"
   ]
  },
  {
   "cell_type": "code",
   "execution_count": 18,
   "id": "88410a74-2561-46da-add3-86e41ec768ab",
   "metadata": {},
   "outputs": [],
   "source": [
    "def programe_start():\n",
    "    from plyer import notification\n",
    "    if __name__ == \"__main__\":\n",
    "        notification.notify(\n",
    "        title = \"프로그램 실행!\",\n",
    "        message = \"자동 알림 프로그램 실행완료.\",\n",
    "        app_name = 'CAKD3',\n",
    "        app_icon= 'emoji.ico',\n",
    "        timeout = 5)\n",
    "    return\n",
    "\n",
    "\n",
    "def break_time():\n",
    "    from plyer import notification\n",
    "    if __name__ == \"__main__\":\n",
    "        notification.notify(\n",
    "        title = \"쉬는시간입니다!\",\n",
    "        message = \"10분간 몸과 뇌를 새로고침하세요\",\n",
    "        app_name = 'CAKD3',\n",
    "        app_icon= 'clock_icon.ico',\n",
    "        timeout = 5)\n",
    "    return\n",
    "\n",
    "\n",
    "def lunch():\n",
    "    from plyer import notification\n",
    "    if __name__ == \"__main__\":\n",
    "        notification.notify(\n",
    "        title = \"점심시간입니다!\",\n",
    "        message = \"14:00까지 식사하고 쉬고 오세요\",\n",
    "        app_name = 'CAKD3',\n",
    "        app_icon= 'lunch.ico',\n",
    "        timeout = 5)\n",
    "    return\n",
    "\n",
    "\n",
    "def check():\n",
    "    from plyer import notification\n",
    "    if __name__ == \"__main__\":\n",
    "        notification.notify(\n",
    "        title = \"신호출결!\",\n",
    "        message = \"<14:00 - 14:48> 중 랜덤으로\\n<1회> 신호출결이 진행됩니다\",\n",
    "        app_name = 'CAKD3',\n",
    "        app_icon= 'check.ico',\n",
    "        timeout = 5)\n",
    "    return\n",
    "\n",
    "\n",
    "\n",
    "def class_start():\n",
    "    from plyer import notification\n",
    "    if __name__ == \"__main__\":\n",
    "        notification.notify(\n",
    "        title = \"수업시작!\",\n",
    "        message = \"자리에 앉아 코딩합시다\",\n",
    "        app_name = 'CAKD3',\n",
    "        app_icon= 'board.ico',\n",
    "        timeout = 5)\n",
    "    return\n",
    "\n",
    "\n",
    "def QR():\n",
    "    from PIL import Image\n",
    "    if __name__ == '__main__':\n",
    "        im = Image.open('qrcode.png')\n",
    "        im.show()            \n",
    "    "
   ]
  },
  {
   "cell_type": "code",
   "execution_count": 7,
   "id": "f32aa760-f44f-492b-bab7-3295eacb7ca7",
   "metadata": {},
   "outputs": [
    {
     "ename": "KeyboardInterrupt",
     "evalue": "",
     "output_type": "error",
     "traceback": [
      "\u001b[1;31m---------------------------------------------------------------------------\u001b[0m",
      "\u001b[1;31mKeyboardInterrupt\u001b[0m                         Traceback (most recent call last)",
      "\u001b[1;32m<ipython-input-7-6af86b55e8cc>\u001b[0m in \u001b[0;36m<module>\u001b[1;34m\u001b[0m\n\u001b[0;32m     58\u001b[0m \u001b[1;32mwhile\u001b[0m \u001b[1;32mTrue\u001b[0m\u001b[1;33m:\u001b[0m\u001b[1;33m\u001b[0m\u001b[1;33m\u001b[0m\u001b[0m\n\u001b[0;32m     59\u001b[0m     \u001b[0mschedule\u001b[0m\u001b[1;33m.\u001b[0m\u001b[0mrun_pending\u001b[0m\u001b[1;33m(\u001b[0m\u001b[1;33m)\u001b[0m\u001b[1;33m\u001b[0m\u001b[1;33m\u001b[0m\u001b[0m\n\u001b[1;32m---> 60\u001b[1;33m     \u001b[0mtime\u001b[0m\u001b[1;33m.\u001b[0m\u001b[0msleep\u001b[0m\u001b[1;33m(\u001b[0m\u001b[1;36m1\u001b[0m\u001b[1;33m)\u001b[0m\u001b[1;33m\u001b[0m\u001b[1;33m\u001b[0m\u001b[0m\n\u001b[0m",
      "\u001b[1;31mKeyboardInterrupt\u001b[0m: "
     ]
    }
   ],
   "source": [
    "#checking\n",
    "programe_start()\n",
    "\n",
    "\n",
    "#QR\n",
    "schedule.every().day.at(\"08:50:00\").do(QR)\n",
    "schedule.every().day.at(\"09:00:00\").do(class_start)\n",
    "schedule.every().day.at(\"09:49:57\").do(break_time)\n",
    "\n",
    "schedule.every().day.at(\"10:00:00\").do(class_start)\n",
    "schedule.every().day.at(\"10:49:57\").do(break_time)\n",
    "\n",
    "\n",
    "schedule.every().day.at(\"11:00:00\").do(class_start)\n",
    "schedule.every().day.at(\"11:49:57\").do(break_time)\n",
    "\n",
    "\n",
    "schedule.every().day.at(\"12:00:00\").do(class_start)\n",
    "schedule.every().day.at(\"12:49:55\").do(lunch)\n",
    "\n",
    "schedule.every().day.at(\"13:59:55\").do(check)\n",
    "schedule.every().day.at(\"14:00:00\").do(class_start)\n",
    "schedule.every().day.at(\"14:49:57\").do(break_time)\n",
    "\n",
    "\n",
    "schedule.every().day.at(\"14:59:57\").do(class_start)\n",
    "schedule.every().day.at(\"15:49:57\").do(break_time)\n",
    "\n",
    "\n",
    "schedule.every().day.at(\"16:00:00\").do(class_start)\n",
    "schedule.every().day.at(\"16:49:57\").do(break_time)\n",
    "\n",
    "\n",
    "schedule.every().day.at(\"17:00:00\").do(class_start)\n",
    "schedule.every().day.at(\"17:50:00\").do(QR)\n",
    "\n",
    "while True:\n",
    "    schedule.run_pending()\n",
    "    time.sleep(1)"
   ]
  },
  {
   "cell_type": "code",
   "execution_count": null,
   "id": "9d516974-b8fa-4966-a43f-11317fe76acc",
   "metadata": {},
   "outputs": [],
   "source": []
  }
 ],
 "metadata": {
  "kernelspec": {
   "display_name": "Python 3",
   "language": "python",
   "name": "python3"
  },
  "language_info": {
   "codemirror_mode": {
    "name": "ipython",
    "version": 3
   },
   "file_extension": ".py",
   "mimetype": "text/x-python",
   "name": "python",
   "nbconvert_exporter": "python",
   "pygments_lexer": "ipython3",
   "version": "3.8.11"
  },
  "varInspector": {
   "cols": {
    "lenName": 16,
    "lenType": 16,
    "lenVar": 40
   },
   "kernels_config": {
    "python": {
     "delete_cmd_postfix": "",
     "delete_cmd_prefix": "del ",
     "library": "var_list.py",
     "varRefreshCmd": "print(var_dic_list())"
    },
    "r": {
     "delete_cmd_postfix": ") ",
     "delete_cmd_prefix": "rm(",
     "library": "var_list.r",
     "varRefreshCmd": "cat(var_dic_list()) "
    }
   },
   "types_to_exclude": [
    "module",
    "function",
    "builtin_function_or_method",
    "instance",
    "_Feature"
   ],
   "window_display": false
  }
 },
 "nbformat": 4,
 "nbformat_minor": 5
}

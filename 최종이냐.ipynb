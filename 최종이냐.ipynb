{
 "cells": [
  {
   "cell_type": "code",
   "execution_count": 9,
   "id": "1eaf7714-a6c5-4de5-8d1b-5fe4963938a7",
   "metadata": {},
   "outputs": [],
   "source": [
    "# module import\n",
    "from plyer import notification\n",
    "import schedule\n",
    "import time\n",
    "import pyautogui\n",
    "import tkinter as tk\n",
    "from tkinter import filedialog\n",
    "import os\n",
    "import datetime as dt\n",
    "import webbrowser\n",
    "import numpy as np"
   ]
  },
  {
   "cell_type": "code",
   "execution_count": 6,
   "id": "b1fe17c7-17ff-4abd-85fe-540a8ab4fd5d",
   "metadata": {},
   "outputs": [
    {
     "name": "stdout",
     "output_type": "stream",
     "text": [
      "Collecting tk\n",
      "  Downloading tk-0.1.0-py3-none-any.whl (3.9 kB)\n",
      "Installing collected packages: tk\n",
      "Successfully installed tk-0.1.0\n"
     ]
    }
   ],
   "source": [
    "!pip install tk"
   ]
  },
  {
   "cell_type": "code",
   "execution_count": 215,
   "id": "88410a74-2561-46da-add3-86e41ec768ab",
   "metadata": {},
   "outputs": [],
   "source": [
    "def programe_start():\n",
    "    if __name__ == \"__main__\":\n",
    "        notification.notify(\n",
    "        title = \"프로그램 실행!\",\n",
    "        message = \"자동 알림 프로그램 실행완료.\",\n",
    "        app_name = 'CAKD3',\n",
    "        app_icon= 'emoji.ico',\n",
    "        timeout = 5)\n",
    "    return\n",
    "\n",
    "\n",
    "def break_time():\n",
    "    if __name__ == \"__main__\":\n",
    "        notification.notify(\n",
    "        title = \"쉬는시간입니다!\",\n",
    "        message = \"10분간 몸과 뇌를 새로고침하세요\",\n",
    "        app_name = 'CAKD3',\n",
    "        app_icon= 'clock_icon.ico',\n",
    "        timeout = 5)\n",
    "    return\n",
    "\n",
    "\n",
    "def lunch():\n",
    "    if __name__ == \"__main__\":\n",
    "        notification.notify(\n",
    "        title = \"점심시간입니다!\",\n",
    "        message = \"14:00까지 식사하고 쉬고 오세요\",\n",
    "        app_name = 'CAKD3',\n",
    "        app_icon= 'lunch.ico',\n",
    "        timeout = 5)\n",
    "    return\n",
    "\n",
    "\n",
    "def check():\n",
    "    if __name__ == \"__main__\":\n",
    "        notification.notify(\n",
    "        title = \"신호출결!\",\n",
    "        message = \"신호출결을 하시기 바랍니다!\\n<14:00 - 14:48> 중 랜덤으로\\n 1회 신호출결이 진행됩니다\",\n",
    "        app_name = 'CAKD3',\n",
    "        app_icon= 'check.ico',\n",
    "        timeout = 5)\n",
    "    return\n",
    "\n",
    "def random_minute():\n",
    "    return np.random.randint(3,40)\n",
    "\n",
    "min_ = random_minute()\n",
    "random_check = dt.time(14,int(f'{min_}'),00).strftime('%H:%M:%S')\n",
    "\n",
    "#Test\n",
    "def random_minute():\n",
    "    return np.random.randint(38,40)\n",
    "\n",
    "min_ = random_minute()\n",
    "random_check = dt.time(2,int(f'{min_}'),00).strftime('%H:%M:%S')\n",
    "\n",
    "\n",
    "\n",
    "def class_start():\n",
    "    if __name__ == \"__main__\":\n",
    "        notification.notify(\n",
    "        title = \"수업시작!\",\n",
    "        message = \"자리에 앉아 코딩합시다\",\n",
    "        app_name = 'CAKD3',\n",
    "        app_icon= 'board.ico',\n",
    "        timeout = 5)\n",
    "    return\n",
    "\n",
    "\n",
    "def QR():\n",
    "    from PIL import Image\n",
    "    if __name__ == '__main__':\n",
    "        im = Image.open('qrcode.png')\n",
    "        im.show()     \n",
    "        \n",
    "def prog_s():\n",
    "    if __name__ == \"__main__\":\n",
    "        notification.notify(\n",
    "        title = \"프로그램!\",\n",
    "        message = \"자동프로그램이 시작됩니다.\",\n",
    "        app_name = 'CAKD3',\n",
    "        app_icon= 'emoji.ico',\n",
    "        timeout = 5)\n",
    "    return"
   ]
  },
  {
   "cell_type": "code",
   "execution_count": null,
   "id": "f32aa760-f44f-492b-bab7-3295eacb7ca7",
   "metadata": {},
   "outputs": [],
   "source": [
    "#checking\n",
    "prog_s()\n",
    "\n",
    "\n",
    "#QR\n",
    "schedule.every().day.at(\"08:50:00\").do(QR)\n",
    "schedule.every().day.at(\"09:00:00\").do(class_start)\n",
    "schedule.every().day.at(\"09:49:57\").do(break_time)\n",
    "\n",
    "schedule.every().day.at(\"10:00:00\").do(class_start)\n",
    "schedule.every().day.at(\"10:49:57\").do(break_time)\n",
    " \n",
    "\n",
    "schedule.every().day.at(\"11:00:00\").do(class_start)\n",
    "schedule.every().day.at(\"11:49:57\").do(break_time)\n",
    "\n",
    "\n",
    "schedule.every().day.at(\"12:00:00\").do(class_start)\n",
    "schedule.every().day.at(\"12:49:55\").do(lunch)\n",
    "\n",
    "schedule.every().day.at(\"14:00:00\").do(class_start)\n",
    "schedule.every().day.at(f\"{random_check}\").do(check)\n",
    "schedule.every().day.at(\"14:49:57\").do(break_time)\n",
    "\n",
    "\n",
    "schedule.every().day.at(\"14:59:57\").do(class_start)\n",
    "schedule.every().day.at(\"15:49:57\").do(break_time)\n",
    "\n",
    "\n",
    "schedule.every().day.at(\"16:00:00\").do(class_start)\n",
    "schedule.every().day.at(\"16:49:57\").do(break_time)\n",
    "\n",
    "\n",
    "schedule.every().day.at(\"17:00:00\").do(class_start)\n",
    "schedule.every().day.at(\"17:50:00\").do(QR)\n",
    "\n",
    "\n",
    "schedule.every().day.at(f\"{random_check}\").do(QR)\n",
    "\n",
    "\n",
    "while True:\n",
    "    schedule.run_pending()\n",
    "    time.sleep(1)"
   ]
  },
  {
   "cell_type": "code",
   "execution_count": 55,
   "id": "458f7515-0be4-4ff7-88fb-a895d1def6fc",
   "metadata": {},
   "outputs": [
    {
     "ename": "ScheduleValueError",
     "evalue": "Invalid time format for a daily job (valid format is HH:MM(:SS)?)",
     "output_type": "error",
     "traceback": [
      "\u001b[1;31m---------------------------------------------------------------------------\u001b[0m",
      "\u001b[1;31mScheduleValueError\u001b[0m                        Traceback (most recent call last)",
      "\u001b[1;32m<ipython-input-55-445d0cd2e2fe>\u001b[0m in \u001b[0;36m<module>\u001b[1;34m\u001b[0m\n\u001b[1;32m----> 1\u001b[1;33m \u001b[0mschedule\u001b[0m\u001b[1;33m.\u001b[0m\u001b[0mevery\u001b[0m\u001b[1;33m(\u001b[0m\u001b[1;33m)\u001b[0m\u001b[1;33m.\u001b[0m\u001b[0mday\u001b[0m\u001b[1;33m.\u001b[0m\u001b[0mat\u001b[0m\u001b[1;33m(\u001b[0m\u001b[1;34m\"2:24:1\"\u001b[0m\u001b[1;33m)\u001b[0m\u001b[1;33m.\u001b[0m\u001b[0mdo\u001b[0m\u001b[1;33m(\u001b[0m\u001b[0mQR\u001b[0m\u001b[1;33m)\u001b[0m\u001b[1;33m\u001b[0m\u001b[1;33m\u001b[0m\u001b[0m\n\u001b[0m",
      "\u001b[1;32m~\\AppData\\Roaming\\Python\\Python38\\site-packages\\schedule\\__init__.py\u001b[0m in \u001b[0;36mat\u001b[1;34m(self, time_str)\u001b[0m\n\u001b[0;32m    483\u001b[0m         \u001b[1;32mif\u001b[0m \u001b[0mself\u001b[0m\u001b[1;33m.\u001b[0m\u001b[0munit\u001b[0m \u001b[1;33m==\u001b[0m \u001b[1;34m\"days\"\u001b[0m \u001b[1;32mor\u001b[0m \u001b[0mself\u001b[0m\u001b[1;33m.\u001b[0m\u001b[0mstart_day\u001b[0m\u001b[1;33m:\u001b[0m\u001b[1;33m\u001b[0m\u001b[1;33m\u001b[0m\u001b[0m\n\u001b[0;32m    484\u001b[0m             \u001b[1;32mif\u001b[0m \u001b[1;32mnot\u001b[0m \u001b[0mre\u001b[0m\u001b[1;33m.\u001b[0m\u001b[0mmatch\u001b[0m\u001b[1;33m(\u001b[0m\u001b[1;34mr\"^([0-2]\\d:)?[0-5]\\d:[0-5]\\d$\"\u001b[0m\u001b[1;33m,\u001b[0m \u001b[0mtime_str\u001b[0m\u001b[1;33m)\u001b[0m\u001b[1;33m:\u001b[0m\u001b[1;33m\u001b[0m\u001b[1;33m\u001b[0m\u001b[0m\n\u001b[1;32m--> 485\u001b[1;33m                 raise ScheduleValueError(\n\u001b[0m\u001b[0;32m    486\u001b[0m                     \u001b[1;34m\"Invalid time format for a daily job (valid format is HH:MM(:SS)?)\"\u001b[0m\u001b[1;33m\u001b[0m\u001b[1;33m\u001b[0m\u001b[0m\n\u001b[0;32m    487\u001b[0m                 )\n",
      "\u001b[1;31mScheduleValueError\u001b[0m: Invalid time format for a daily job (valid format is HH:MM(:SS)?)"
     ]
    }
   ],
   "source": [
    "schedule.every().day.at(\"2:24:1\").do(QR)"
   ]
  },
  {
   "cell_type": "code",
   "execution_count": null,
   "id": "fe8f8a35-7428-499a-a026-aa36b3840350",
   "metadata": {},
   "outputs": [],
   "source": []
  },
  {
   "cell_type": "code",
   "execution_count": null,
   "id": "ca9f74d6-132e-4498-a5c2-b242aa0cfde2",
   "metadata": {},
   "outputs": [],
   "source": []
  },
  {
   "cell_type": "markdown",
   "id": "fd415299-8cd3-4a92-b899-091942bf6acf",
   "metadata": {},
   "source": [
    "감사하지 않습니다 채승혜님"
   ]
  }
 ],
 "metadata": {
  "kernelspec": {
   "display_name": "Python 3",
   "language": "python",
   "name": "python3"
  },
  "language_info": {
   "codemirror_mode": {
    "name": "ipython",
    "version": 3
   },
   "file_extension": ".py",
   "mimetype": "text/x-python",
   "name": "python",
   "nbconvert_exporter": "python",
   "pygments_lexer": "ipython3",
   "version": "3.8.11"
  },
  "varInspector": {
   "cols": {
    "lenName": 16,
    "lenType": 16,
    "lenVar": 40
   },
   "kernels_config": {
    "python": {
     "delete_cmd_postfix": "",
     "delete_cmd_prefix": "del ",
     "library": "var_list.py",
     "varRefreshCmd": "print(var_dic_list())"
    },
    "r": {
     "delete_cmd_postfix": ") ",
     "delete_cmd_prefix": "rm(",
     "library": "var_list.r",
     "varRefreshCmd": "cat(var_dic_list()) "
    }
   },
   "types_to_exclude": [
    "module",
    "function",
    "builtin_function_or_method",
    "instance",
    "_Feature"
   ],
   "window_display": false
  }
 },
 "nbformat": 4,
 "nbformat_minor": 5
}
